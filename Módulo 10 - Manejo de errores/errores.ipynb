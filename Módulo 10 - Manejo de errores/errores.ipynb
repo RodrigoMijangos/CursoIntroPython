{
 "cells": [
  {
   "cell_type": "markdown",
   "metadata": {
    "collapsed": true,
    "pycharm": {
     "name": "#%% md\n"
    }
   },
   "source": [
    "# Traceback"
   ]
  },
  {
   "cell_type": "code",
   "source": [
    ">>> open(\"/path/to/mars.jpg\")"
   ],
   "metadata": {
    "collapsed": false,
    "pycharm": {
     "name": "#%%\n"
    }
   },
   "execution_count": 3,
   "outputs": [
    {
     "ename": "FileNotFoundError",
     "evalue": "[Errno 2] No such file or directory: '/path/to/mars.jpg'",
     "output_type": "error",
     "traceback": [
      "\u001B[1;31m---------------------------------------------------------------------------\u001B[0m",
      "\u001B[1;31mFileNotFoundError\u001B[0m                         Traceback (most recent call last)",
      "Input \u001B[1;32mIn [3]\u001B[0m, in \u001B[0;36m<module>\u001B[1;34m\u001B[0m\n\u001B[1;32m----> 1\u001B[0m \u001B[38;5;28;43mopen\u001B[39;49m\u001B[43m(\u001B[49m\u001B[38;5;124;43m\"\u001B[39;49m\u001B[38;5;124;43m/path/to/mars.jpg\u001B[39;49m\u001B[38;5;124;43m\"\u001B[39;49m\u001B[43m)\u001B[49m\n",
      "\u001B[1;31mFileNotFoundError\u001B[0m: [Errno 2] No such file or directory: '/path/to/mars.jpg'"
     ]
    }
   ]
  },
  {
   "cell_type": "markdown",
   "source": [
    "# Try, Except"
   ],
   "metadata": {
    "collapsed": false,
    "pycharm": {
     "name": "#%% md\n"
    }
   }
  },
  {
   "cell_type": "code",
   "execution_count": 6,
   "outputs": [
    {
     "name": "stdout",
     "output_type": "stream",
     "text": [
      "El archivo config.txt no fue encontrado\n"
     ]
    }
   ],
   "source": [
    ">>> try:\n",
    "    open('config.txt')\n",
    "except FileNotFoundError:\n",
    "    print('El archivo config.txt no fue encontrado')"
   ],
   "metadata": {
    "collapsed": false,
    "pycharm": {
     "name": "#%%\n"
    }
   }
  },
  {
   "cell_type": "code",
   "execution_count": 7,
   "outputs": [
    {
     "name": "stdout",
     "output_type": "stream",
     "text": [
      "Hubo un problema tratando de abrir el archivo,  [Errno 2] No such file or directory: 'mars'\n"
     ]
    }
   ],
   "source": [
    ">>> try:\n",
    "    open('mars')\n",
    "except FileNotFoundError as err:\n",
    "    print(\"Hubo un problema tratando de abrir el archivo, \", err)"
   ],
   "metadata": {
    "collapsed": false,
    "pycharm": {
     "name": "#%%\n"
    }
   }
  },
  {
   "cell_type": "code",
   "execution_count": 8,
   "outputs": [
    {
     "name": "stdout",
     "output_type": "stream",
     "text": [
      "Couldn't find the config.txt file!\n"
     ]
    }
   ],
   "source": [
    ">>> try:\n",
    "    open('mars')\n",
    "except OSError as err:\n",
    "    if err.errno == 2:\n",
    "        print(\"Couldn't find the config.txt file!\")\n",
    "    if err.errno == 13:\n",
    "        print(\"Found config.txt but couldn't read it\")"
   ],
   "metadata": {
    "collapsed": false,
    "pycharm": {
     "name": "#%%\n"
    }
   }
  },
  {
   "cell_type": "markdown",
   "source": [
    "# Generación de Excepciones"
   ],
   "metadata": {
    "collapsed": false,
    "pycharm": {
     "name": "#%% md\n"
    }
   }
  },
  {
   "cell_type": "code",
   "execution_count": 18,
   "outputs": [],
   "source": [
    "# def water_left(astronauts, water_left, days_left):\n",
    "#     daily_usage = astronauts * 11\n",
    "#     total_usage = daily_usage * days_left\n",
    "#     total_water_left = water_left - total_usage\n",
    "#     if total_water_left < 0:\n",
    "#         raise RuntimeError(f\"There is not enough water for {astronauts} astronauts after {days_left} days!\")\n",
    "#     return f\"Total water left after {days_left} days is: {total_water_left} liters\"\n",
    "\n",
    "def water_left(astronauts, water_left, days_left):\n",
    "    for argument in [astronauts, water_left, days_left]:\n",
    "        try:\n",
    "            # If argument is an int, the following operation will work\n",
    "            argument / 10\n",
    "        except TypeError:\n",
    "            # TypError will be raised only if it isn't the right type\n",
    "            # Raise the same exception but with a better error message\n",
    "            raise TypeError(f\"All arguments must be of type int, but received: '{argument}'\")\n",
    "    daily_usage = astronauts * 11\n",
    "    total_usage = daily_usage * days_left\n",
    "    total_water_left = water_left - total_usage\n",
    "    if total_water_left < 0:\n",
    "        raise RuntimeError(f\"There is not enough water for {astronauts} astronauts after {days_left} days!\")\n",
    "    return f\"Total water left after {days_left} days is: {total_water_left} liters\""
   ],
   "metadata": {
    "collapsed": false,
    "pycharm": {
     "name": "#%%\n"
    }
   }
  },
  {
   "cell_type": "code",
   "execution_count": 10,
   "outputs": [
    {
     "data": {
      "text/plain": "'Total water left after 2 days is: -10 liters'"
     },
     "execution_count": 10,
     "metadata": {},
     "output_type": "execute_result"
    }
   ],
   "source": [
    ">>> water_left(5, 100, 2)"
   ],
   "metadata": {
    "collapsed": false,
    "pycharm": {
     "name": "#%%\n"
    }
   }
  },
  {
   "cell_type": "code",
   "execution_count": 13,
   "outputs": [
    {
     "ename": "RuntimeError",
     "evalue": "There is not enough water for 5 astronauts after 2 days!",
     "output_type": "error",
     "traceback": [
      "\u001B[1;31m---------------------------------------------------------------------------\u001B[0m",
      "\u001B[1;31mRuntimeError\u001B[0m                              Traceback (most recent call last)",
      "Input \u001B[1;32mIn [13]\u001B[0m, in \u001B[0;36m<module>\u001B[1;34m\u001B[0m\n\u001B[0;32m      1\u001B[0m \u001B[38;5;66;03m#Second try\u001B[39;00m\n\u001B[1;32m----> 2\u001B[0m \u001B[43mwater_left\u001B[49m\u001B[43m(\u001B[49m\u001B[38;5;241;43m5\u001B[39;49m\u001B[43m,\u001B[49m\u001B[38;5;241;43m100\u001B[39;49m\u001B[43m,\u001B[49m\u001B[38;5;241;43m2\u001B[39;49m\u001B[43m)\u001B[49m\n",
      "Input \u001B[1;32mIn [12]\u001B[0m, in \u001B[0;36mwater_left\u001B[1;34m(astronauts, water_left, days_left)\u001B[0m\n\u001B[0;32m      4\u001B[0m total_water_left \u001B[38;5;241m=\u001B[39m water_left \u001B[38;5;241m-\u001B[39m total_usage\n\u001B[0;32m      5\u001B[0m \u001B[38;5;28;01mif\u001B[39;00m total_water_left \u001B[38;5;241m<\u001B[39m \u001B[38;5;241m0\u001B[39m:\n\u001B[1;32m----> 6\u001B[0m     \u001B[38;5;28;01mraise\u001B[39;00m \u001B[38;5;167;01mRuntimeError\u001B[39;00m(\u001B[38;5;124mf\u001B[39m\u001B[38;5;124m\"\u001B[39m\u001B[38;5;124mThere is not enough water for \u001B[39m\u001B[38;5;132;01m{\u001B[39;00mastronauts\u001B[38;5;132;01m}\u001B[39;00m\u001B[38;5;124m astronauts after \u001B[39m\u001B[38;5;132;01m{\u001B[39;00mdays_left\u001B[38;5;132;01m}\u001B[39;00m\u001B[38;5;124m days!\u001B[39m\u001B[38;5;124m\"\u001B[39m)\n\u001B[0;32m      7\u001B[0m \u001B[38;5;28;01mreturn\u001B[39;00m \u001B[38;5;124mf\u001B[39m\u001B[38;5;124m\"\u001B[39m\u001B[38;5;124mTotal water left after \u001B[39m\u001B[38;5;132;01m{\u001B[39;00mdays_left\u001B[38;5;132;01m}\u001B[39;00m\u001B[38;5;124m days is: \u001B[39m\u001B[38;5;132;01m{\u001B[39;00mtotal_water_left\u001B[38;5;132;01m}\u001B[39;00m\u001B[38;5;124m liters\u001B[39m\u001B[38;5;124m\"\u001B[39m\n",
      "\u001B[1;31mRuntimeError\u001B[0m: There is not enough water for 5 astronauts after 2 days!"
     ]
    }
   ],
   "source": [
    "#Second try\n",
    ">>> water_left(5,100,2)"
   ],
   "metadata": {
    "collapsed": false,
    "pycharm": {
     "name": "#%%\n"
    }
   }
  },
  {
   "cell_type": "code",
   "execution_count": 14,
   "outputs": [
    {
     "ename": "NameError",
     "evalue": "name 'alert_navigation_system' is not defined",
     "output_type": "error",
     "traceback": [
      "\u001B[1;31m---------------------------------------------------------------------------\u001B[0m",
      "\u001B[1;31mRuntimeError\u001B[0m                              Traceback (most recent call last)",
      "Input \u001B[1;32mIn [14]\u001B[0m, in \u001B[0;36m<module>\u001B[1;34m\u001B[0m\n\u001B[0;32m      2\u001B[0m \u001B[38;5;28;01mtry\u001B[39;00m:\n\u001B[1;32m----> 3\u001B[0m     \u001B[43mwater_left\u001B[49m\u001B[43m(\u001B[49m\u001B[38;5;241;43m5\u001B[39;49m\u001B[43m,\u001B[49m\u001B[43m \u001B[49m\u001B[38;5;241;43m100\u001B[39;49m\u001B[43m,\u001B[49m\u001B[43m \u001B[49m\u001B[38;5;241;43m2\u001B[39;49m\u001B[43m)\u001B[49m\n\u001B[0;32m      4\u001B[0m \u001B[38;5;28;01mexcept\u001B[39;00m \u001B[38;5;167;01mRuntimeError\u001B[39;00m \u001B[38;5;28;01mas\u001B[39;00m err:\n",
      "Input \u001B[1;32mIn [12]\u001B[0m, in \u001B[0;36mwater_left\u001B[1;34m(astronauts, water_left, days_left)\u001B[0m\n\u001B[0;32m      5\u001B[0m \u001B[38;5;28;01mif\u001B[39;00m total_water_left \u001B[38;5;241m<\u001B[39m \u001B[38;5;241m0\u001B[39m:\n\u001B[1;32m----> 6\u001B[0m     \u001B[38;5;28;01mraise\u001B[39;00m \u001B[38;5;167;01mRuntimeError\u001B[39;00m(\u001B[38;5;124mf\u001B[39m\u001B[38;5;124m\"\u001B[39m\u001B[38;5;124mThere is not enough water for \u001B[39m\u001B[38;5;132;01m{\u001B[39;00mastronauts\u001B[38;5;132;01m}\u001B[39;00m\u001B[38;5;124m astronauts after \u001B[39m\u001B[38;5;132;01m{\u001B[39;00mdays_left\u001B[38;5;132;01m}\u001B[39;00m\u001B[38;5;124m days!\u001B[39m\u001B[38;5;124m\"\u001B[39m)\n\u001B[0;32m      7\u001B[0m \u001B[38;5;28;01mreturn\u001B[39;00m \u001B[38;5;124mf\u001B[39m\u001B[38;5;124m\"\u001B[39m\u001B[38;5;124mTotal water left after \u001B[39m\u001B[38;5;132;01m{\u001B[39;00mdays_left\u001B[38;5;132;01m}\u001B[39;00m\u001B[38;5;124m days is: \u001B[39m\u001B[38;5;132;01m{\u001B[39;00mtotal_water_left\u001B[38;5;132;01m}\u001B[39;00m\u001B[38;5;124m liters\u001B[39m\u001B[38;5;124m\"\u001B[39m\n",
      "\u001B[1;31mRuntimeError\u001B[0m: There is not enough water for 5 astronauts after 2 days!",
      "\nDuring handling of the above exception, another exception occurred:\n",
      "\u001B[1;31mNameError\u001B[0m                                 Traceback (most recent call last)",
      "Input \u001B[1;32mIn [14]\u001B[0m, in \u001B[0;36m<module>\u001B[1;34m\u001B[0m\n\u001B[0;32m      3\u001B[0m     water_left(\u001B[38;5;241m5\u001B[39m, \u001B[38;5;241m100\u001B[39m, \u001B[38;5;241m2\u001B[39m)\n\u001B[0;32m      4\u001B[0m \u001B[38;5;28;01mexcept\u001B[39;00m \u001B[38;5;167;01mRuntimeError\u001B[39;00m \u001B[38;5;28;01mas\u001B[39;00m err:\n\u001B[1;32m----> 5\u001B[0m     \u001B[43malert_navigation_system\u001B[49m(err)\n",
      "\u001B[1;31mNameError\u001B[0m: name 'alert_navigation_system' is not defined"
     ]
    }
   ],
   "source": [
    "#Third Try\n",
    ">>> try:\n",
    "    water_left(5, 100, 2)\n",
    "except RuntimeError as err:\n",
    "    alert_navigation_system(err)"
   ],
   "metadata": {
    "collapsed": false,
    "pycharm": {
     "name": "#%%\n"
    }
   }
  },
  {
   "cell_type": "code",
   "execution_count": 17,
   "outputs": [
    {
     "ename": "TypeError",
     "evalue": "can't multiply sequence by non-int of type 'NoneType'",
     "output_type": "error",
     "traceback": [
      "\u001B[1;31m---------------------------------------------------------------------------\u001B[0m",
      "\u001B[1;31mTypeError\u001B[0m                                 Traceback (most recent call last)",
      "Input \u001B[1;32mIn [17]\u001B[0m, in \u001B[0;36m<module>\u001B[1;34m\u001B[0m\n\u001B[0;32m      1\u001B[0m \u001B[38;5;66;03m#Fourth Try\u001B[39;00m\n\u001B[1;32m----> 2\u001B[0m \u001B[43mwater_left\u001B[49m\u001B[43m(\u001B[49m\u001B[38;5;124;43m\"\u001B[39;49m\u001B[38;5;124;43m3\u001B[39;49m\u001B[38;5;124;43m\"\u001B[39;49m\u001B[43m,\u001B[49m\u001B[38;5;124;43m\"\u001B[39;49m\u001B[38;5;124;43m200\u001B[39;49m\u001B[38;5;124;43m\"\u001B[39;49m\u001B[43m,\u001B[49m\u001B[38;5;28;43;01mNone\u001B[39;49;00m\u001B[43m)\u001B[49m\n",
      "Input \u001B[1;32mIn [16]\u001B[0m, in \u001B[0;36mwater_left\u001B[1;34m(astronauts, water_left, days_left)\u001B[0m\n\u001B[0;32m      1\u001B[0m \u001B[38;5;28;01mdef\u001B[39;00m \u001B[38;5;21mwater_left\u001B[39m(astronauts, water_left, days_left):\n\u001B[0;32m      2\u001B[0m     daily_usage \u001B[38;5;241m=\u001B[39m astronauts \u001B[38;5;241m*\u001B[39m \u001B[38;5;241m11\u001B[39m\n\u001B[1;32m----> 3\u001B[0m     total_usage \u001B[38;5;241m=\u001B[39m \u001B[43mdaily_usage\u001B[49m\u001B[43m \u001B[49m\u001B[38;5;241;43m*\u001B[39;49m\u001B[43m \u001B[49m\u001B[43mdays_left\u001B[49m\n\u001B[0;32m      4\u001B[0m     total_water_left \u001B[38;5;241m=\u001B[39m water_left \u001B[38;5;241m-\u001B[39m total_usage\n\u001B[0;32m      5\u001B[0m     \u001B[38;5;28;01mif\u001B[39;00m total_water_left \u001B[38;5;241m<\u001B[39m \u001B[38;5;241m0\u001B[39m:\n",
      "\u001B[1;31mTypeError\u001B[0m: can't multiply sequence by non-int of type 'NoneType'"
     ]
    }
   ],
   "source": [
    "#Fourth Try\n",
    ">>> water_left(\"3\",\"200\",None)"
   ],
   "metadata": {
    "collapsed": false,
    "pycharm": {
     "name": "#%%\n"
    }
   }
  },
  {
   "cell_type": "code",
   "execution_count": 19,
   "outputs": [
    {
     "ename": "TypeError",
     "evalue": "All arguments must be of type int, but received: '3'",
     "output_type": "error",
     "traceback": [
      "\u001B[1;31m---------------------------------------------------------------------------\u001B[0m",
      "\u001B[1;31mTypeError\u001B[0m                                 Traceback (most recent call last)",
      "Input \u001B[1;32mIn [18]\u001B[0m, in \u001B[0;36mwater_left\u001B[1;34m(astronauts, water_left, days_left)\u001B[0m\n\u001B[0;32m     11\u001B[0m \u001B[38;5;28;01mtry\u001B[39;00m:\n\u001B[0;32m     12\u001B[0m     \u001B[38;5;66;03m# If argument is an int, the following operation will work\u001B[39;00m\n\u001B[1;32m---> 13\u001B[0m     \u001B[43margument\u001B[49m\u001B[43m \u001B[49m\u001B[38;5;241;43m/\u001B[39;49m\u001B[43m \u001B[49m\u001B[38;5;241;43m10\u001B[39;49m\n\u001B[0;32m     14\u001B[0m \u001B[38;5;28;01mexcept\u001B[39;00m \u001B[38;5;167;01mTypeError\u001B[39;00m:\n\u001B[0;32m     15\u001B[0m     \u001B[38;5;66;03m# TypError will be raised only if it isn't the right type\u001B[39;00m\n\u001B[0;32m     16\u001B[0m     \u001B[38;5;66;03m# Raise the same exception but with a better error message\u001B[39;00m\n",
      "\u001B[1;31mTypeError\u001B[0m: unsupported operand type(s) for /: 'str' and 'int'",
      "\nDuring handling of the above exception, another exception occurred:\n",
      "\u001B[1;31mTypeError\u001B[0m                                 Traceback (most recent call last)",
      "Input \u001B[1;32mIn [19]\u001B[0m, in \u001B[0;36m<module>\u001B[1;34m\u001B[0m\n\u001B[0;32m      1\u001B[0m \u001B[38;5;66;03m#Fifth Try\u001B[39;00m\n\u001B[1;32m----> 2\u001B[0m \u001B[43mwater_left\u001B[49m\u001B[43m(\u001B[49m\u001B[38;5;124;43m\"\u001B[39;49m\u001B[38;5;124;43m3\u001B[39;49m\u001B[38;5;124;43m\"\u001B[39;49m\u001B[43m,\u001B[49m\u001B[38;5;124;43m\"\u001B[39;49m\u001B[38;5;124;43m200\u001B[39;49m\u001B[38;5;124;43m\"\u001B[39;49m\u001B[43m,\u001B[49m\u001B[38;5;28;43;01mNone\u001B[39;49;00m\u001B[43m)\u001B[49m\n",
      "Input \u001B[1;32mIn [18]\u001B[0m, in \u001B[0;36mwater_left\u001B[1;34m(astronauts, water_left, days_left)\u001B[0m\n\u001B[0;32m     13\u001B[0m         argument \u001B[38;5;241m/\u001B[39m \u001B[38;5;241m10\u001B[39m\n\u001B[0;32m     14\u001B[0m     \u001B[38;5;28;01mexcept\u001B[39;00m \u001B[38;5;167;01mTypeError\u001B[39;00m:\n\u001B[0;32m     15\u001B[0m         \u001B[38;5;66;03m# TypError will be raised only if it isn't the right type\u001B[39;00m\n\u001B[0;32m     16\u001B[0m         \u001B[38;5;66;03m# Raise the same exception but with a better error message\u001B[39;00m\n\u001B[1;32m---> 17\u001B[0m         \u001B[38;5;28;01mraise\u001B[39;00m \u001B[38;5;167;01mTypeError\u001B[39;00m(\u001B[38;5;124mf\u001B[39m\u001B[38;5;124m\"\u001B[39m\u001B[38;5;124mAll arguments must be of type int, but received: \u001B[39m\u001B[38;5;124m'\u001B[39m\u001B[38;5;132;01m{\u001B[39;00margument\u001B[38;5;132;01m}\u001B[39;00m\u001B[38;5;124m'\u001B[39m\u001B[38;5;124m\"\u001B[39m)\n\u001B[0;32m     18\u001B[0m daily_usage \u001B[38;5;241m=\u001B[39m astronauts \u001B[38;5;241m*\u001B[39m \u001B[38;5;241m11\u001B[39m\n\u001B[0;32m     19\u001B[0m total_usage \u001B[38;5;241m=\u001B[39m daily_usage \u001B[38;5;241m*\u001B[39m days_left\n",
      "\u001B[1;31mTypeError\u001B[0m: All arguments must be of type int, but received: '3'"
     ]
    }
   ],
   "source": [
    "#Fifth Try\n",
    ">>> water_left(\"3\",\"200\",None)"
   ],
   "metadata": {
    "collapsed": false,
    "pycharm": {
     "name": "#%%\n"
    }
   }
  },
  {
   "cell_type": "code",
   "execution_count": null,
   "outputs": [],
   "source": [],
   "metadata": {
    "collapsed": false,
    "pycharm": {
     "name": "#%%\n"
    }
   }
  }
 ],
 "metadata": {
  "kernelspec": {
   "display_name": "Python 3",
   "language": "python",
   "name": "python3"
  },
  "language_info": {
   "codemirror_mode": {
    "name": "ipython",
    "version": 2
   },
   "file_extension": ".py",
   "mimetype": "text/x-python",
   "name": "python",
   "nbconvert_exporter": "python",
   "pygments_lexer": "ipython2",
   "version": "2.7.6"
  }
 },
 "nbformat": 4,
 "nbformat_minor": 0
}