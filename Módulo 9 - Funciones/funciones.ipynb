{
 "cells": [
  {
   "cell_type": "markdown",
   "metadata": {
    "collapsed": true,
    "pycharm": {
     "name": "#%% md\n"
    }
   },
   "source": [
    "# Reporte de Combustible"
   ]
  },
  {
   "cell_type": "code",
   "execution_count": 4,
   "outputs": [],
   "source": [
    "import time\n",
    "\n",
    "\n",
    "def reporte(tanque1,tanque2,tanque3):\n",
    "    prom = promedio_comb(tanque1,tanque2,tanque3)\n",
    "\n",
    "    return f\"\"\"El tanque 1 tiene {tanque1} unidades de combustible\n",
    "El tanque 2 tiene {tanque2} unidades de combustible\n",
    "El tanque 3 tiene {tanque3} unidades de combustible\n",
    "En promedio la nave tiene aproximadamente {round(prom)} unidades de combustible\"\"\""
   ],
   "metadata": {
    "collapsed": false,
    "pycharm": {
     "name": "#%%\n"
    }
   }
  },
  {
   "cell_type": "markdown",
   "source": [
    "# Uso de funcion y pase de parámetros"
   ],
   "metadata": {
    "collapsed": false,
    "pycharm": {
     "name": "#%% md\n"
    }
   }
  },
  {
   "cell_type": "code",
   "execution_count": 5,
   "outputs": [
    {
     "name": "stdout",
     "output_type": "stream",
     "text": [
      "El tanque 1 tiene 20 unidades de combustible\n",
      "El tanque 2 tiene 40 unidades de combustible\n",
      "El tanque 3 tiene 0 unidades de combustible\n",
      "En promedio la nave tiene aproximadamente 20 unidades de combustible\n"
     ]
    }
   ],
   "source": [
    "print(reporte(20,40,0))"
   ],
   "metadata": {
    "collapsed": false,
    "pycharm": {
     "name": "#%%\n"
    }
   }
  },
  {
   "cell_type": "markdown",
   "source": [
    "# Promedio del combustible"
   ],
   "metadata": {
    "collapsed": false,
    "pycharm": {
     "name": "#%% md\n"
    }
   }
  },
  {
   "cell_type": "code",
   "execution_count": 3,
   "outputs": [],
   "source": [
    "def promedio_comb(tanque1, tanque2, tanque3):\n",
    "    return (tanque1 + tanque2 + tanque3)/3"
   ],
   "metadata": {
    "collapsed": false,
    "pycharm": {
     "name": "#%%\n"
    }
   }
  },
  {
   "cell_type": "markdown",
   "source": [
    "# Informe de Mision"
   ],
   "metadata": {
    "collapsed": false,
    "pycharm": {
     "name": "#%% md\n"
    }
   }
  },
  {
   "cell_type": "code",
   "execution_count": 13,
   "outputs": [
    {
     "name": "stdout",
     "output_type": "stream",
     "text": [
      "Inician preparativos a las 3 para la misión hacia LUNA.\n",
      "El tiempo de vuelo de la mision ha sido de 40 y el combustible en los tanques fue de 40 y 80 unidades respectivamente\n"
     ]
    }
   ],
   "source": [
    "def informe(hora_prelanzamiento,tiempo_vuelo,destino,tanque1,tanque2):\n",
    "    print(f\"\"\"Inician preparativos a las {hora_prelanzamiento} para la misión hacia {destino}.\n",
    "El tiempo de vuelo de la mision ha sido de {tiempo_vuelo} y el combustible en los tanques fue de {tanque1} y {tanque2} unidades respectivamente\"\"\")\n",
    "\n",
    "informe(3,40,\"LUNA\",40,80)"
   ],
   "metadata": {
    "collapsed": false,
    "pycharm": {
     "name": "#%%\n"
    }
   }
  },
  {
   "cell_type": "markdown",
   "source": [
    "# Función flexible"
   ],
   "metadata": {
    "collapsed": false,
    "pycharm": {
     "name": "#%% md\n"
    }
   }
  },
  {
   "cell_type": "code",
   "execution_count": 10,
   "outputs": [
    {
     "name": "stdout",
     "output_type": "stream",
     "text": [
      "Inicia misión con destino a LUNA.\n",
      "La misión ha durado 47 minutos y el combustible sobrante es de 100 unidades\n"
     ]
    }
   ],
   "source": [
    "def reporteMejorado(destino, *minutos_vuelo, **combustible):\n",
    "    print(f\"\"\"Inicia misión con destino a {destino}.\n",
    "La misión ha durado {sum(minutos_vuelo)} minutos y el combustible sobrante es de {sum(combustible.values())} unidades\"\"\")\n",
    "\n",
    "reporteMejorado(\"LUNA\",12,15,20,principal=20,externo=30,emergencia=50)"
   ],
   "metadata": {
    "collapsed": false,
    "pycharm": {
     "name": "#%%\n"
    }
   }
  },
  {
   "cell_type": "markdown",
   "source": [
    "# Mostrando Nombres de Tanques"
   ],
   "metadata": {
    "collapsed": false,
    "pycharm": {
     "name": "#%% md\n"
    }
   }
  },
  {
   "cell_type": "code",
   "execution_count": 9,
   "outputs": [
    {
     "name": "stdout",
     "output_type": "stream",
     "text": [
      "Inicia misión con destino a LUNA.\n",
      "La misión ha durado 47 minutos\n",
      "El tanque principal tiene en reserva 20 unidades de combustible\n",
      "El tanque externo tiene en reserva 30 unidades de combustible\n",
      "El tanque emergencia tiene en reserva 50 unidades de combustible\n"
     ]
    }
   ],
   "source": [
    "def reporteMejorado2(destino, *minutos_vuelo, **combustible):\n",
    "    print(f\"\"\"Inicia misión con destino a {destino}.\n",
    "La misión ha durado {sum(minutos_vuelo)} minutos\"\"\")\n",
    "\n",
    "    for i in combustible.keys():\n",
    "        print(f\"\"\"El tanque {i} tiene en reserva {combustible.get(i)} unidades de combustible\"\"\")\n",
    "\n",
    "reporteMejorado2(\"LUNA\",12,15,20,principal=20,externo=30,emergencia=50)"
   ],
   "metadata": {
    "collapsed": false,
    "pycharm": {
     "name": "#%%\n"
    }
   }
  },
  {
   "cell_type": "code",
   "execution_count": null,
   "outputs": [],
   "source": [],
   "metadata": {
    "collapsed": false,
    "pycharm": {
     "name": "#%%\n"
    }
   }
  }
 ],
 "metadata": {
  "kernelspec": {
   "display_name": "Python 3",
   "language": "python",
   "name": "python3"
  },
  "language_info": {
   "codemirror_mode": {
    "name": "ipython",
    "version": 2
   },
   "file_extension": ".py",
   "mimetype": "text/x-python",
   "name": "python",
   "nbconvert_exporter": "python",
   "pygments_lexer": "ipython2",
   "version": "2.7.6"
  }
 },
 "nbformat": 4,
 "nbformat_minor": 0
}